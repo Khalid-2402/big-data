{
  "nbformat": 4,
  "nbformat_minor": 0,
  "metadata": {
    "colab": {
      "provenance": [],
      "machine_shape": "hm",
      "gpuType": "V28",
      "authorship_tag": "ABX9TyMhqhYuNeEaql5ZWlzD7gET",
      "include_colab_link": true
    },
    "kernelspec": {
      "name": "python3",
      "display_name": "Python 3"
    },
    "language_info": {
      "name": "python"
    },
    "accelerator": "TPU"
  },
  "cells": [
    {
      "cell_type": "markdown",
      "metadata": {
        "id": "view-in-github",
        "colab_type": "text"
      },
      "source": [
        "<a href=\"https://colab.research.google.com/github/Khalid-2402/big-data/blob/main/Lab4_TAXI_SARSA_solved_Khalid_AlShigager.ipynb\" target=\"_parent\"><img src=\"https://colab.research.google.com/assets/colab-badge.svg\" alt=\"Open In Colab\"/></a>"
      ]
    },
    {
      "cell_type": "code",
      "source": [
        "!pip install gymnasium\n",
        "!pip install numpy"
      ],
      "metadata": {
        "colab": {
          "base_uri": "https://localhost:8080/"
        },
        "id": "Owio1oHShQ-r",
        "outputId": "c3a02226-43ef-4523-a79f-da369424d17e"
      },
      "execution_count": 2,
      "outputs": [
        {
          "output_type": "stream",
          "name": "stdout",
          "text": [
            "Collecting gymnasium\n",
            "  Downloading gymnasium-1.0.0-py3-none-any.whl.metadata (9.5 kB)\n",
            "Requirement already satisfied: numpy>=1.21.0 in /usr/local/lib/python3.10/dist-packages (from gymnasium) (1.26.4)\n",
            "Requirement already satisfied: cloudpickle>=1.2.0 in /usr/local/lib/python3.10/dist-packages (from gymnasium) (3.1.0)\n",
            "Requirement already satisfied: typing-extensions>=4.3.0 in /usr/local/lib/python3.10/dist-packages (from gymnasium) (4.12.2)\n",
            "Collecting farama-notifications>=0.0.1 (from gymnasium)\n",
            "  Downloading Farama_Notifications-0.0.4-py3-none-any.whl.metadata (558 bytes)\n",
            "Downloading gymnasium-1.0.0-py3-none-any.whl (958 kB)\n",
            "\u001b[2K   \u001b[90m━━━━━━━━━━━━━━━━━━━━━━━━━━━━━━━━━━━━━━━━\u001b[0m \u001b[32m958.1/958.1 kB\u001b[0m \u001b[31m11.1 MB/s\u001b[0m eta \u001b[36m0:00:00\u001b[0m\n",
            "\u001b[?25hDownloading Farama_Notifications-0.0.4-py3-none-any.whl (2.5 kB)\n",
            "Installing collected packages: farama-notifications, gymnasium\n",
            "Successfully installed farama-notifications-0.0.4 gymnasium-1.0.0\n",
            "Requirement already satisfied: numpy in /usr/local/lib/python3.10/dist-packages (1.26.4)\n"
          ]
        }
      ]
    },
    {
      "cell_type": "code",
      "execution_count": 4,
      "metadata": {
        "colab": {
          "base_uri": "https://localhost:8080/"
        },
        "id": "tp9SwYmShEnM",
        "outputId": "eb912e8a-bb5a-43a4-a4cc-12d2f3aa0079"
      },
      "outputs": [
        {
          "output_type": "stream",
          "name": "stderr",
          "text": [
            "/usr/local/lib/python3.10/dist-packages/gym/core.py:317: DeprecationWarning: \u001b[33mWARN: Initializing wrapper in old step API which returns one bool instead of two. It is recommended to set `new_step_api=True` to use new step API. This will be the default behaviour in future.\u001b[0m\n",
            "  deprecation(\n",
            "/usr/local/lib/python3.10/dist-packages/gym/wrappers/step_api_compatibility.py:39: DeprecationWarning: \u001b[33mWARN: Initializing environment in old step API which returns one bool instead of two. It is recommended to set `new_step_api=True` to use new step API. This will be the default behaviour in future.\u001b[0m\n",
            "  deprecation(\n",
            "/usr/local/lib/python3.10/dist-packages/gym/utils/passive_env_checker.py:241: DeprecationWarning: `np.bool8` is a deprecated alias for `np.bool_`.  (Deprecated NumPy 1.24)\n",
            "  if not isinstance(terminated, (bool, np.bool8)):\n"
          ]
        },
        {
          "output_type": "stream",
          "name": "stdout",
          "text": [
            "Average Reward over 100 episodes: -324.38\n"
          ]
        }
      ],
      "source": [
        "import numpy as np\n",
        "import gym\n",
        "\n",
        "# Set up the Taxi environment\n",
        "env = gym.make(\"Taxi-v3\")\n",
        "\n",
        "# Initialize SARSA parameters\n",
        "alpha = 0.1  # Learning rate\n",
        "gamma = 0.99  # Discount factor\n",
        "epsilon = 1.0  # Initial exploration rate\n",
        "epsilon_decay = 0.99  # Faster decay for exploration\n",
        "epsilon_min = 0.1  # Minimum exploration rate\n",
        "episodes = 500  # Reduced number of episodes\n",
        "max_steps = 50  # Reduced maximum steps per episode\n",
        "early_stop_threshold = 50  # Episodes with stable rewards to stop training early\n",
        "\n",
        "# Initialize the Q-table with zeros\n",
        "Q = np.zeros((env.observation_space.n, env.action_space.n))\n",
        "\n",
        "# Function to choose an action using the epsilon-greedy policy\n",
        "def choose_action(state, epsilon):\n",
        "    if np.random.random() < epsilon:\n",
        "        return env.action_space.sample()  # Explore\n",
        "    else:\n",
        "        return np.argmax(Q[state])  # Exploit\n",
        "\n",
        "# SARSA Training loop with early stopping\n",
        "reward_history = []\n",
        "for episode in range(episodes):\n",
        "    state = env.reset()\n",
        "    action = choose_action(state, epsilon)\n",
        "\n",
        "    total_reward = 0\n",
        "    for step in range(max_steps):\n",
        "        next_state, reward, done, _ = env.step(action)\n",
        "        next_action = choose_action(next_state, epsilon)\n",
        "\n",
        "        # Update Q-value using the SARSA formula\n",
        "        Q[state, action] += alpha * (\n",
        "            reward + gamma * Q[next_state, next_action] - Q[state, action]\n",
        "        )\n",
        "\n",
        "        state, action = next_state, next_action\n",
        "        total_reward += reward\n",
        "\n",
        "        if done:\n",
        "            break\n",
        "\n",
        "    # Decay the exploration rate\n",
        "    epsilon = max(epsilon_min, epsilon * epsilon_decay)\n",
        "\n",
        "    # Track rewards for early stopping\n",
        "    reward_history.append(total_reward)\n",
        "    if len(reward_history) > early_stop_threshold:\n",
        "        recent_rewards = reward_history[-early_stop_threshold:]\n",
        "        if np.std(recent_rewards) < 1.0:  # Check if rewards have stabilized\n",
        "            print(f\"Early stopping at episode {episode}\")\n",
        "            break\n",
        "\n",
        "# Function to evaluate the learned policy\n",
        "def evaluate_policy(env, Q, n_episodes=100):\n",
        "    total_rewards = 0\n",
        "    for _ in range(n_episodes):\n",
        "        state = env.reset()\n",
        "        done = False\n",
        "        while not done:\n",
        "            action = np.argmax(Q[state])  # Exploit learned policy\n",
        "            state, reward, done, _ = env.step(action)\n",
        "            total_rewards += reward\n",
        "    return total_rewards / n_episodes\n",
        "\n",
        "# Evaluate the learned policy\n",
        "average_reward = evaluate_policy(env, Q)\n",
        "print(f\"Average Reward over 100 episodes: {average_reward:.2f}\")\n"
      ]
    },
    {
      "cell_type": "markdown",
      "source": [
        "## The warnings indicate that the Gym environment is using an older version of the step API. These warnings suggest switching to the new API (new_step_api=True) to avoid future compatibility issues."
      ],
      "metadata": {
        "id": "75Gnnvw6fAD7"
      }
    },
    {
      "cell_type": "markdown",
      "source": [
        "## The average reward over 100 episodes is very low (-324.38). This suggests that the policy is not learning effectively and may require tuning of hyperparameters or debugging."
      ],
      "metadata": {
        "id": "vth1S8-GfBRR"
      }
    },
    {
      "cell_type": "code",
      "source": [
        "# Set up the Taxi environment with new API\n",
        "env = gym.make(\"Taxi-v3\", new_step_api=True)\n",
        "\n",
        "# Initialize SARSA parameters\n",
        "alpha = 0.3  # Learning rate\n",
        "gamma = 0.95  # Discount factor\n",
        "epsilon = 1.0  # Initial exploration rate\n",
        "epsilon_decay = 0.995  # Slower decay for exploration\n",
        "epsilon_min = 0.1  # Minimum exploration rate\n",
        "episodes = 1000  # Number of episodes\n",
        "max_steps = 50  # Max steps per episode\n",
        "\n",
        "# Initialize the Q-table with zeros\n",
        "Q = np.zeros((env.observation_space.n, env.action_space.n))\n",
        "\n",
        "# Function to choose an action using epsilon-greedy policy\n",
        "def choose_action(state, epsilon):\n",
        "    if np.random.random() < epsilon:\n",
        "        return env.action_space.sample()  # Explore\n",
        "    else:\n",
        "        return np.argmax(Q[state])  # Exploit\n",
        "\n",
        "# SARSA Training loop\n",
        "for episode in range(episodes):\n",
        "    state = env.reset()\n",
        "    action = choose_action(state, epsilon)\n",
        "\n",
        "    for step in range(max_steps):\n",
        "        # Use the new Gym API that includes \"truncated\"\n",
        "        next_state, reward, done, truncated, _ = env.step(action)\n",
        "        next_action = choose_action(next_state, epsilon)\n",
        "\n",
        "        # Update Q-value using the SARSA formula\n",
        "        Q[state, action] += alpha * (\n",
        "            reward + gamma * Q[next_state, next_action] - Q[state, action]\n",
        "        )\n",
        "\n",
        "        state, action = next_state, next_action\n",
        "\n",
        "        if done or truncated:  # End the episode if done or truncated\n",
        "            break\n",
        "\n",
        "    # Decay the exploration rate\n",
        "    epsilon = max(epsilon_min, epsilon * epsilon_decay)\n",
        "\n",
        "# Function to evaluate the learned policy\n",
        "def evaluate_policy(env, Q, n_episodes=100):\n",
        "    total_rewards = 0\n",
        "    for _ in range(n_episodes):\n",
        "        state = env.reset()\n",
        "        done = False\n",
        "        while not done:\n",
        "            action = np.argmax(Q[state])  # Exploit learned policy\n",
        "            # Use the new Gym API that includes \"truncated\"\n",
        "            state, reward, done, truncated, _ = env.step(action)\n",
        "            total_rewards += reward\n",
        "            if done or truncated:\n",
        "                break\n",
        "    return total_rewards / n_episodes\n",
        "\n",
        "# Evaluate the learned policy\n",
        "average_reward = evaluate_policy(env, Q)\n",
        "print(f\"Average Reward over 100 episodes: {average_reward:.2f}\")\n"
      ],
      "metadata": {
        "colab": {
          "base_uri": "https://localhost:8080/"
        },
        "id": "rZ_lKlS6qpzv",
        "outputId": "440de3c7-eac3-401c-f1c5-a0de32984d06"
      },
      "execution_count": 7,
      "outputs": [
        {
          "output_type": "stream",
          "name": "stdout",
          "text": [
            "Average Reward over 100 episodes: -95.46\n"
          ]
        }
      ]
    },
    {
      "cell_type": "markdown",
      "source": [
        "## The reported average reward of -95.46 indicates the SARSA algorithm is not performing optimally. Here are potential reasons and adjustments to improve performance"
      ],
      "metadata": {
        "id": "aNT92c_Rfj2t"
      }
    },
    {
      "cell_type": "markdown",
      "source": [
        "### Possible Causes of Poor Performance:\n",
        "\n",
        "1- Insufficient Exploration:\n",
        "\n",
        "If the agent is not exploring enough, it might get stuck in suboptimal policies.\n",
        "\n",
        "2- Improper Learning Rate (alpha):\n",
        "\n",
        "A too-high or too-low learning rate can lead to poor convergence.\n",
        "\n",
        "3- Discount Factor (gamma):\n",
        "\n",
        "A suboptimal discount factor might undervalue long-term rewards.\n",
        "\n",
        "4- High Negative Rewards in Environment:\n",
        "\n",
        "The Taxi environment penalizes incorrect moves with negative rewards, which can significantly lower the average reward.\n",
        "\n",
        "5- Hyperparameter Interactions:\n",
        "\n",
        "Exploration (epsilon) decay and learning parameters might need tuning to better fit the environment."
      ],
      "metadata": {
        "id": "m62FeRqHfuVS"
      }
    },
    {
      "cell_type": "markdown",
      "source": [
        "### Refined the implementation:\n",
        "\n",
        "1- Tune Hyperparameters:\n",
        "\n",
        "Increase the exploration rate decay (epsilon_decay = 0.998) for more exploration early in training.\n",
        "Adjust the learning rate (alpha = 0.1).\n",
        "\n",
        "2- Increase Training Episodes:\n",
        "\n",
        "Increase the total episodes (e.g., 1500 or 2000) to allow the agent more time to learn.\n",
        "\n",
        "3- Longer Evaluation:\n",
        "\n",
        "Evaluate over more episodes (e.g., 200) for more reliable metrics.\n",
        "\n",
        "4- Adjust Q-Value Initialization:\n",
        "\n",
        "Initialize Q-values with small positive values to encourage exploration"
      ],
      "metadata": {
        "id": "Qmg5pm5dfl39"
      }
    },
    {
      "cell_type": "code",
      "source": [
        "\n",
        "# Set up the Taxi environment with new API\n",
        "env = gym.make(\"Taxi-v3\", new_step_api=True)\n",
        "\n",
        "# Initialize SARSA parameters\n",
        "alpha = 0.1  # Reduced learning rate\n",
        "gamma = 0.99  # Higher discount factor\n",
        "epsilon = 1.0  # Initial exploration rate\n",
        "epsilon_decay = 0.998  # Slower decay for better exploration\n",
        "epsilon_min = 0.1  # Minimum exploration rate\n",
        "episodes = 2000  # Increased training episodes\n",
        "max_steps = 100  # Increased steps per episode\n",
        "\n",
        "# Initialize the Q-table with small positive random values\n",
        "Q = np.random.uniform(low=0, high=1, size=(env.observation_space.n, env.action_space.n))\n",
        "\n",
        "# Function to choose an action using epsilon-greedy policy\n",
        "def choose_action(state, epsilon):\n",
        "    if np.random.random() < epsilon:\n",
        "        return env.action_space.sample()  # Explore\n",
        "    else:\n",
        "        return np.argmax(Q[state])  # Exploit\n",
        "\n",
        "# SARSA Training loop\n",
        "for episode in range(episodes):\n",
        "    state = env.reset()\n",
        "    action = choose_action(state, epsilon)\n",
        "\n",
        "    for step in range(max_steps):\n",
        "        # Use the new Gym API that includes \"truncated\"\n",
        "        next_state, reward, done, truncated, _ = env.step(action)\n",
        "        next_action = choose_action(next_state, epsilon)\n",
        "\n",
        "        # Update Q-value using the SARSA formula\n",
        "        Q[state, action] += alpha * (\n",
        "            reward + gamma * Q[next_state, next_action] - Q[state, action]\n",
        "        )\n",
        "\n",
        "        state, action = next_state, next_action\n",
        "\n",
        "        if done or truncated:  # End the episode if done or truncated\n",
        "            break\n",
        "\n",
        "    # Decay the exploration rate\n",
        "    epsilon = max(epsilon_min, epsilon * epsilon_decay)\n",
        "\n",
        "# Function to evaluate the learned policy\n",
        "def evaluate_policy(env, Q, n_episodes=200):\n",
        "    total_rewards = 0\n",
        "    for _ in range(n_episodes):\n",
        "        state = env.reset()\n",
        "        done = False\n",
        "        while not done:\n",
        "            action = np.argmax(Q[state])  # Exploit learned policy\n",
        "            # Use the new Gym API that includes \"truncated\"\n",
        "            state, reward, done, truncated, _ = env.step(action)\n",
        "            total_rewards += reward\n",
        "            if done or truncated:\n",
        "                break\n",
        "    return total_rewards / n_episodes\n",
        "\n",
        "# Evaluate the learned policy\n",
        "average_reward = evaluate_policy(env, Q)\n",
        "print(f\"Average Reward over 200 episodes: {average_reward:.2f}\")\n"
      ],
      "metadata": {
        "colab": {
          "base_uri": "https://localhost:8080/"
        },
        "id": "3xZAgaHWrJSx",
        "outputId": "ca3127ee-9c94-44af-915f-7438bd841983"
      },
      "execution_count": 8,
      "outputs": [
        {
          "output_type": "stream",
          "name": "stdout",
          "text": [
            "Average Reward over 200 episodes: -63.50\n"
          ]
        }
      ]
    },
    {
      "cell_type": "markdown",
      "source": [
        "## The average reward -63.50 is still negative but shows improvement."
      ],
      "metadata": {
        "id": "H3tJHnPTgdYB"
      }
    },
    {
      "cell_type": "markdown",
      "source": [
        "### steps to improve the performance:\n",
        "\n",
        "1- Positive Initialization of Q-values:\n",
        "\n",
        "Ensuring that Q-values are initialized high enough to encourage exploration. This prevents the agent from assuming all actions are equally bad initially.\n",
        "\n",
        "2- Reward Clipping:\n",
        "\n",
        "Normalizing or clipping rewards to reduce the impact of large negative penalties.\n",
        "\n",
        "3- Dynamic Exploration Decay:\n",
        "\n",
        "Using a dynamic schedule for epsilon instead of limear decay.\n",
        "\n",
        "4- Hyperparameter Adjustment:\n",
        "\n",
        "Learning rate (alpha) might still be too low. Increase to 0.5 for faster Q-value updates.\n",
        "\n",
        "Discount factor (gamma) can be reduced slightly (e.g., 0.95) to focus more on immediate rewards."
      ],
      "metadata": {
        "id": "-_wpNLMsgmln"
      }
    },
    {
      "cell_type": "code",
      "source": [
        "import matplotlib.pyplot as plt\n",
        "\n",
        "# Set up the Taxi environment with new API\n",
        "env = gym.make(\"Taxi-v3\", new_step_api=True)\n",
        "\n",
        "# Initialize SARSA parameters\n",
        "alpha = 0.5  # Increased learning rate\n",
        "gamma = 0.95  # Slightly reduced discount factor\n",
        "epsilon = 1.0  # Initial exploration rate\n",
        "epsilon_decay = 0.99  # Dynamic exploration decay\n",
        "epsilon_min = 0.1  # Minimum exploration rate\n",
        "episodes = 2000  # Number of episodes\n",
        "max_steps = 100  # Max steps per episode\n",
        "\n",
        "# Initialize the Q-table with positive random values\n",
        "Q = np.random.uniform(low=1, high=5, size=(env.observation_space.n, env.action_space.n))\n",
        "\n",
        "# Tracking rewards for visualization\n",
        "reward_per_episode = []\n",
        "\n",
        "# Function to choose an action using epsilon-greedy policy\n",
        "def choose_action(state, epsilon):\n",
        "    if np.random.random() < epsilon:\n",
        "        return env.action_space.sample()  # Explore\n",
        "    else:\n",
        "        return np.argmax(Q[state])  # Exploit\n",
        "\n",
        "# SARSA Training loop\n",
        "for episode in range(episodes):\n",
        "    state = env.reset()\n",
        "    action = choose_action(state, epsilon)\n",
        "\n",
        "    total_reward = 0\n",
        "    for step in range(max_steps):\n",
        "        # Use the new Gym API that includes \"truncated\"\n",
        "        next_state, reward, done, truncated, _ = env.step(action)\n",
        "        next_action = choose_action(next_state, epsilon)\n",
        "\n",
        "        # Update Q-value using the SARSA formula\n",
        "        Q[state, action] += alpha * (\n",
        "            reward + gamma * Q[next_state, next_action] - Q[state, action]\n",
        "        )\n",
        "\n",
        "        state, action = next_state, next_action\n",
        "        total_reward += reward\n",
        "\n",
        "        if done or truncated:  # End the episode if done or truncated\n",
        "            break\n",
        "\n",
        "    # Decay the exploration rate dynamically\n",
        "    epsilon = max(\n",
        "        epsilon_min, epsilon * (0.99 if episode < 0.5 * episodes else 0.999)\n",
        "    )\n",
        "\n",
        "    reward_per_episode.append(total_reward)\n",
        "\n",
        "# Function to evaluate the learned policy\n",
        "def evaluate_policy(env, Q, n_episodes=200):\n",
        "    total_rewards = 0\n",
        "    for _ in range(n_episodes):\n",
        "        state = env.reset()\n",
        "        done = False\n",
        "        while not done:\n",
        "            action = np.argmax(Q[state])  # Exploit learned policy\n",
        "            # Use the new Gym API that includes \"truncated\"\n",
        "            state, reward, done, truncated, _ = env.step(action)\n",
        "            total_rewards += reward\n",
        "            if done or truncated:\n",
        "                break\n",
        "    return total_rewards / n_episodes\n",
        "\n",
        "# Evaluate the learned policy\n",
        "average_reward = evaluate_policy(env, Q)\n",
        "print(f\"Average Reward over 200 episodes: {average_reward:.2f}\")\n",
        "\n",
        "# Plot training rewards\n",
        "plt.plot(reward_per_episode)\n",
        "plt.title(\"Reward per Episode\")\n",
        "plt.xlabel(\"Episode\")\n",
        "plt.ylabel(\"Total Reward\")\n",
        "plt.show()\n"
      ],
      "metadata": {
        "colab": {
          "base_uri": "https://localhost:8080/",
          "height": 489
        },
        "id": "6wnfd-Q2rWHz",
        "outputId": "b5294b8d-1d31-48b4-8e79-44699ed47d9a"
      },
      "execution_count": 9,
      "outputs": [
        {
          "output_type": "stream",
          "name": "stdout",
          "text": [
            "Average Reward over 200 episodes: -15.16\n"
          ]
        },
        {
          "output_type": "display_data",
          "data": {
            "text/plain": [
              "<Figure size 640x480 with 1 Axes>"
            ],
            "image/png": "[encoded data removed]"
          },
          "metadata": {}
        }
      ]
    },
    {
      "cell_type": "markdown",
      "source": [
        "## The plot and the improved average reward (-15.16) indicate that the agent's performance has significantly improved, but there is still room for optimization to achieve positive rewards consistently."
      ],
      "metadata": {
        "id": "5RmxxIJAhZYM"
      }
    },
    {
      "cell_type": "markdown",
      "source": [
        "## Observations\n",
        "\n",
        "Reward Convergence:\n",
        "Rewards are steadily improving and approaching near-zero by the end of training. This suggests that the agent is learning, but more training or adjustments may be needed for better convergence.\n",
        "\n",
        "Fluctuations:\n",
        "There are still some dips in rewards even after many episodes, likely due to continued exploration (epsilon) or suboptimal learning parameters."
      ],
      "metadata": {
        "id": "UB0XOkV6hgVM"
      }
    },
    {
      "cell_type": "markdown",
      "source": [
        "## Steps for improvement:\n",
        "\n",
        "- Decreasing the minimum exploration rate (epsilon_min) to 0.05 or lower. This will make the agent rely more on exploitation in later episodes.\n",
        "\n",
        "- Training for more episodes (e.g., 3000) to allow the agent to refine its policy further.\n",
        "\n",
        "- Experimenting with reward clipping to dampen the impact of large penalties\n",
        "\n",
        "- Increasing the discount factor (gamma) slightly (e.g., 0.98) to emphasize long-term rewards more strongly.\n",
        "\n",
        "- Inspecting the learned Q-values to understand if the agent is still penalized for specific states.\n"
      ],
      "metadata": {
        "id": "bfpDtdo7ho1h"
      }
    },
    {
      "cell_type": "code",
      "source": [
        "import matplotlib.pyplot as plt\n",
        "\n",
        "# Set up the Taxi environment with new API\n",
        "env = gym.make(\"Taxi-v3\", new_step_api=True)\n",
        "\n",
        "# Initialize SARSA parameters\n",
        "alpha = 0.5  # Learning rate\n",
        "gamma = 0.98  # Higher discount factor for long-term rewards\n",
        "epsilon = 1.0  # Initial exploration rate\n",
        "epsilon_decay = 0.998  # Slower decay for better exploration\n",
        "epsilon_min = 0.05  # Reduced minimum exploration rate\n",
        "episodes = 3000  # Increased training episodes\n",
        "max_steps = 100  # Max steps per episode\n",
        "\n",
        "# Initialize the Q-table with positive random values\n",
        "Q = np.random.uniform(low=1, high=5, size=(env.observation_space.n, env.action_space.n))\n",
        "\n",
        "# Tracking rewards for visualization\n",
        "reward_per_episode = []\n",
        "\n",
        "# Function to choose an action using epsilon-greedy policy\n",
        "def choose_action(state, epsilon):\n",
        "    if np.random.random() < epsilon:\n",
        "        return env.action_space.sample()  # Explore\n",
        "    else:\n",
        "        return np.argmax(Q[state])  # Exploit\n",
        "\n",
        "# SARSA Training loop\n",
        "for episode in range(episodes):\n",
        "    state = env.reset()\n",
        "    action = choose_action(state, epsilon)\n",
        "\n",
        "    total_reward = 0\n",
        "    for step in range(max_steps):\n",
        "        # Use the new Gym API that includes \"truncated\"\n",
        "        next_state, reward, done, truncated, _ = env.step(action)\n",
        "\n",
        "        # Optional: Clip rewards to reduce penalty impact\n",
        "        reward = np.clip(reward, -10, 20)\n",
        "\n",
        "        next_action = choose_action(next_state, epsilon)\n",
        "\n",
        "        # Update Q-value using the SARSA formula\n",
        "        Q[state, action] += alpha * (\n",
        "            reward + gamma * Q[next_state, next_action] - Q[state, action]\n",
        "        )\n",
        "\n",
        "        state, action = next_state, next_action\n",
        "        total_reward += reward\n",
        "\n",
        "        if done or truncated:  # End the episode if done or truncated\n",
        "            break\n",
        "\n",
        "    # Decay the exploration rate dynamically\n",
        "    epsilon = max(epsilon_min, epsilon * epsilon_decay)\n",
        "\n",
        "    reward_per_episode.append(total_reward)\n",
        "\n",
        "# Function to evaluate the learned policy\n",
        "def evaluate_policy(env, Q, n_episodes=200):\n",
        "    total_rewards = 0\n",
        "    for _ in range(n_episodes):\n",
        "        state = env.reset()\n",
        "        done = False\n",
        "        while not done:\n",
        "            action = np.argmax(Q[state])  # Exploit learned policy\n",
        "            # Use the new Gym API that includes \"truncated\"\n",
        "            state, reward, done, truncated, _ = env.step(action)\n",
        "            total_rewards += reward\n",
        "            if done or truncated:\n",
        "                break\n",
        "    return total_rewards / n_episodes\n",
        "\n",
        "# Evaluate the learned policy\n",
        "average_reward = evaluate_policy(env, Q)\n",
        "print(f\"Average Reward over 200 episodes: {average_reward:.2f}\")\n",
        "\n",
        "# Plot training rewards\n",
        "plt.figure(figsize=(10, 5))\n",
        "plt.plot(reward_per_episode, label=\"Episode Rewards\")\n",
        "plt.title(\"Reward per Episode\")\n",
        "plt.xlabel(\"Episode\")\n",
        "plt.ylabel(\"Total Reward\")\n",
        "plt.legend()\n",
        "plt.show()\n",
        "\n",
        "# Smooth the reward curve for better visualization\n",
        "smoothed_rewards = np.convolve(reward_per_episode, np.ones(50)/50, mode='valid')\n",
        "plt.figure(figsize=(10, 5))\n",
        "plt.plot(smoothed_rewards, label=\"Smoothed Rewards\", color=\"orange\")\n",
        "plt.title(\"Smoothed Reward per Episode\")\n",
        "plt.xlabel(\"Episode\")\n",
        "plt.ylabel(\"Smoothed Total Reward\")\n",
        "plt.legend()\n",
        "plt.show()\n"
      ],
      "metadata": {
        "colab": {
          "base_uri": "https://localhost:8080/",
          "height": 974
        },
        "id": "-ee9xCAPrsv5",
        "outputId": "1c9f41a9-66b1-45fd-a905-4472879ab4e1"
      },
      "execution_count": 10,
      "outputs": [
        {
          "output_type": "stream",
          "name": "stdout",
          "text": [
            "Average Reward over 200 episodes: -0.64\n"
          ]
        },
        {
          "output_type": "display_data",
          "data": {
            "text/plain": [
              "<Figure size 1000x500 with 1 Axes>"
            ],
            "image/png": "[encoded data removed]"
          },
          "metadata": {}
        },
        {
          "output_type": "display_data",
          "data": {
            "text/plain": [
              "<Figure size 1000x500 with 1 Axes>"
            ],
            "image/png": "[encoded data removed]"
          },
          "metadata": {}
        }
      ]
    },
    {
      "cell_type": "markdown",
      "source": [
        "## The results are promising, with the smoothed reward curve showing significant improvement and nearing a positive reward. The average reward of -0.64 is very close to zero, which indicates the agent has almost mastered the environment."
      ],
      "metadata": {
        "id": "6ETiwx5tiM18"
      }
    },
    {
      "cell_type": "markdown",
      "source": [
        "## Analysis of Results\n",
        "\n",
        "Steady Convergence:\n",
        "\n",
        "The smoothed reward curve shows a clear upward trend and stabilizes, which means the SARSA algorithm is learning an effective policy.\n",
        "\n",
        "By episode ~1500, the rewards level out, showing the agent has mostly converged.\n",
        "\n",
        "Fluctuations:\n",
        "\n",
        "While the raw rewards still have some fluctuations, this is expected due to exploration (epsilon) and the stochastic nature of the environment.\n",
        "\n",
        "Near-Optimal Policy:\n",
        "\n",
        "The evaluation reward (-0.64) is close to zero, which indicates that the agent is close to consistently achieving the task successfully with minimal penalties."
      ],
      "metadata": {
        "id": "Pb-Mbc5tiVsL"
      }
    },
    {
      "cell_type": "markdown",
      "source": [
        "## Visualizing the Learned Policy\n",
        "\n",
        "Inspecting the Q-table and the policy"
      ],
      "metadata": {
        "id": "v8Ql5OQEi60t"
      }
    },
    {
      "cell_type": "code",
      "source": [
        "# Display learned Q-table\n",
        "print(\"Learned Q-table:\")\n",
        "print(Q)\n",
        "\n",
        "# Visualize the policy\n",
        "def visualize_policy(Q):\n",
        "    actions = [\"South\", \"North\", \"East\", \"West\", \"Pickup\", \"Dropoff\"]\n",
        "    policy = [actions[np.argmax(Q[state])] for state in range(env.observation_space.n)]\n",
        "    print(\"Learned Policy:\")\n",
        "    for i, action in enumerate(policy):\n",
        "        print(f\"State {i}: {action}\")\n",
        "\n",
        "visualize_policy(Q)\n"
      ],
      "metadata": {
        "colab": {
          "base_uri": "https://localhost:8080/"
        },
        "id": "EGgVE8C6r6sn",
        "outputId": "b0cd6095-4714-4df8-f177-bc5d03d028d2"
      },
      "execution_count": 11,
      "outputs": [
        {
          "output_type": "stream",
          "name": "stdout",
          "text": [
            "Learned Q-table:\n",
            "[[  2.46105205   3.46215766   4.91736727   4.79970633   3.33986767\n",
            "    3.84910122]\n",
            " [-10.99367029   2.88113993 -15.6779591   -3.35123353  11.18100304\n",
            "   -3.89629333]\n",
            " [  4.15341582  -9.53698694   3.96411315   4.05605947  12.92843294\n",
            "  -15.26900164]\n",
            " ...\n",
            " [  0.71409236  11.59202921   6.13117171   1.22916652  -9.93837277\n",
            "  -14.93813481]\n",
            " [-17.12125584 -17.6649552  -17.4274153  -10.18271367 -27.22616866\n",
            "  -24.25362634]\n",
            " [  4.54203867   5.39901456  13.73857434  23.05080728  -3.09360979\n",
            "    0.19666561]]\n",
            "Learned Policy:\n",
            "State 0: East\n",
            "State 1: Pickup\n",
            "State 2: Pickup\n",
            "State 3: Pickup\n",
            "State 4: South\n",
            "State 5: Dropoff\n",
            "State 6: South\n",
            "State 7: East\n",
            "State 8: South\n",
            "State 9: South\n",
            "State 10: West\n",
            "State 11: South\n",
            "State 12: South\n",
            "State 13: East\n",
            "State 14: East\n",
            "State 15: Pickup\n",
            "State 16: Dropoff\n",
            "State 17: South\n",
            "State 18: South\n",
            "State 19: East\n",
            "State 20: North\n",
            "State 21: South\n",
            "State 22: West\n",
            "State 23: West\n",
            "State 24: West\n",
            "State 25: West\n",
            "State 26: South\n",
            "State 27: South\n",
            "State 28: West\n",
            "State 29: South\n",
            "State 30: South\n",
            "State 31: South\n",
            "State 32: South\n",
            "State 33: South\n",
            "State 34: South\n",
            "State 35: South\n",
            "State 36: West\n",
            "State 37: West\n",
            "State 38: South\n",
            "State 39: South\n",
            "State 40: North\n",
            "State 41: South\n",
            "State 42: East\n",
            "State 43: South\n",
            "State 44: East\n",
            "State 45: East\n",
            "State 46: East\n",
            "State 47: East\n",
            "State 48: South\n",
            "State 49: South\n",
            "State 50: West\n",
            "State 51: South\n",
            "State 52: South\n",
            "State 53: East\n",
            "State 54: South\n",
            "State 55: West\n",
            "State 56: South\n",
            "State 57: South\n",
            "State 58: South\n",
            "State 59: South\n",
            "State 60: West\n",
            "State 61: South\n",
            "State 62: South\n",
            "State 63: South\n",
            "State 64: East\n",
            "State 65: West\n",
            "State 66: South\n",
            "State 67: East\n",
            "State 68: East\n",
            "State 69: West\n",
            "State 70: North\n",
            "State 71: West\n",
            "State 72: West\n",
            "State 73: South\n",
            "State 74: South\n",
            "State 75: West\n",
            "State 76: West\n",
            "State 77: East\n",
            "State 78: South\n",
            "State 79: South\n",
            "State 80: West\n",
            "State 81: West\n",
            "State 82: West\n",
            "State 83: West\n",
            "State 84: Pickup\n",
            "State 85: Dropoff\n",
            "State 86: Pickup\n",
            "State 87: Pickup\n",
            "State 88: South\n",
            "State 89: South\n",
            "State 90: South\n",
            "State 91: West\n",
            "State 92: South\n",
            "State 93: South\n",
            "State 94: West\n",
            "State 95: Dropoff\n",
            "State 96: West\n",
            "State 97: Dropoff\n",
            "State 98: West\n",
            "State 99: West\n",
            "State 100: West\n",
            "State 101: North\n",
            "State 102: North\n",
            "State 103: East\n",
            "State 104: South\n",
            "State 105: North\n",
            "State 106: East\n",
            "State 107: East\n",
            "State 108: South\n",
            "State 109: South\n",
            "State 110: West\n",
            "State 111: East\n",
            "State 112: East\n",
            "State 113: East\n",
            "State 114: East\n",
            "State 115: North\n",
            "State 116: North\n",
            "State 117: South\n",
            "State 118: South\n",
            "State 119: East\n",
            "State 120: North\n",
            "State 121: West\n",
            "State 122: North\n",
            "State 123: North\n",
            "State 124: North\n",
            "State 125: South\n",
            "State 126: South\n",
            "State 127: South\n",
            "State 128: South\n",
            "State 129: West\n",
            "State 130: East\n",
            "State 131: South\n",
            "State 132: South\n",
            "State 133: South\n",
            "State 134: South\n",
            "State 135: East\n",
            "State 136: West\n",
            "State 137: West\n",
            "State 138: West\n",
            "State 139: South\n",
            "State 140: Pickup\n",
            "State 141: East\n",
            "State 142: South\n",
            "State 143: South\n",
            "State 144: North\n",
            "State 145: South\n",
            "State 146: East\n",
            "State 147: East\n",
            "State 148: South\n",
            "State 149: South\n",
            "State 150: North\n",
            "State 151: South\n",
            "State 152: South\n",
            "State 153: South\n",
            "State 154: East\n",
            "State 155: Pickup\n",
            "State 156: South\n",
            "State 157: East\n",
            "State 158: South\n",
            "State 159: South\n",
            "State 160: East\n",
            "State 161: South\n",
            "State 162: East\n",
            "State 163: West\n",
            "State 164: West\n",
            "State 165: North\n",
            "State 166: East\n",
            "State 167: East\n",
            "State 168: West\n",
            "State 169: South\n",
            "State 170: South\n",
            "State 171: South\n",
            "State 172: East\n",
            "State 173: South\n",
            "State 174: South\n",
            "State 175: Dropoff\n",
            "State 176: West\n",
            "State 177: East\n",
            "State 178: South\n",
            "State 179: South\n",
            "State 180: South\n",
            "State 181: West\n",
            "State 182: South\n",
            "State 183: South\n",
            "State 184: North\n",
            "State 185: North\n",
            "State 186: North\n",
            "State 187: North\n",
            "State 188: South\n",
            "State 189: West\n",
            "State 190: North\n",
            "State 191: West\n",
            "State 192: South\n",
            "State 193: South\n",
            "State 194: West\n",
            "State 195: East\n",
            "State 196: West\n",
            "State 197: North\n",
            "State 198: West\n",
            "State 199: South\n",
            "State 200: North\n",
            "State 201: North\n",
            "State 202: North\n",
            "State 203: East\n",
            "State 204: East\n",
            "State 205: Dropoff\n",
            "State 206: East\n",
            "State 207: East\n",
            "State 208: South\n",
            "State 209: South\n",
            "State 210: North\n",
            "State 211: South\n",
            "State 212: East\n",
            "State 213: East\n",
            "State 214: South\n",
            "State 215: Pickup\n",
            "State 216: North\n",
            "State 217: East\n",
            "State 218: South\n",
            "State 219: East\n",
            "State 220: West\n",
            "State 221: West\n",
            "State 222: West\n",
            "State 223: North\n",
            "State 224: East\n",
            "State 225: North\n",
            "State 226: East\n",
            "State 227: East\n",
            "State 228: West\n",
            "State 229: West\n",
            "State 230: Dropoff\n",
            "State 231: West\n",
            "State 232: East\n",
            "State 233: East\n",
            "State 234: North\n",
            "State 235: West\n",
            "State 236: West\n",
            "State 237: East\n",
            "State 238: West\n",
            "State 239: East\n",
            "State 240: Pickup\n",
            "State 241: West\n",
            "State 242: South\n",
            "State 243: West\n",
            "State 244: East\n",
            "State 245: Dropoff\n",
            "State 246: East\n",
            "State 247: East\n",
            "State 248: West\n",
            "State 249: West\n",
            "State 250: Dropoff\n",
            "State 251: West\n",
            "State 252: East\n",
            "State 253: East\n",
            "State 254: East\n",
            "State 255: Pickup\n",
            "State 256: West\n",
            "State 257: East\n",
            "State 258: West\n",
            "State 259: East\n",
            "State 260: Dropoff\n",
            "State 261: West\n",
            "State 262: West\n",
            "State 263: West\n",
            "State 264: North\n",
            "State 265: South\n",
            "State 266: North\n",
            "State 267: North\n",
            "State 268: West\n",
            "State 269: West\n",
            "State 270: Pickup\n",
            "State 271: West\n",
            "State 272: South\n",
            "State 273: South\n",
            "State 274: South\n",
            "State 275: North\n",
            "State 276: West\n",
            "State 277: North\n",
            "State 278: West\n",
            "State 279: South\n",
            "State 280: North\n",
            "State 281: North\n",
            "State 282: West\n",
            "State 283: West\n",
            "State 284: West\n",
            "State 285: West\n",
            "State 286: North\n",
            "State 287: North\n",
            "State 288: West\n",
            "State 289: North\n",
            "State 290: North\n",
            "State 291: North\n",
            "State 292: South\n",
            "State 293: West\n",
            "State 294: West\n",
            "State 295: North\n",
            "State 296: West\n",
            "State 297: North\n",
            "State 298: West\n",
            "State 299: South\n",
            "State 300: South\n",
            "State 301: North\n",
            "State 302: North\n",
            "State 303: North\n",
            "State 304: North\n",
            "State 305: North\n",
            "State 306: North\n",
            "State 307: North\n",
            "State 308: South\n",
            "State 309: South\n",
            "State 310: West\n",
            "State 311: South\n",
            "State 312: North\n",
            "State 313: North\n",
            "State 314: North\n",
            "State 315: Dropoff\n",
            "State 316: North\n",
            "State 317: North\n",
            "State 318: South\n",
            "State 319: North\n",
            "State 320: Pickup\n",
            "State 321: North\n",
            "State 322: North\n",
            "State 323: East\n",
            "State 324: South\n",
            "State 325: West\n",
            "State 326: North\n",
            "State 327: East\n",
            "State 328: North\n",
            "State 329: North\n",
            "State 330: East\n",
            "State 331: North\n",
            "State 332: East\n",
            "State 333: North\n",
            "State 334: North\n",
            "State 335: West\n",
            "State 336: North\n",
            "State 337: East\n",
            "State 338: East\n",
            "State 339: North\n",
            "State 340: Pickup\n",
            "State 341: Pickup\n",
            "State 342: West\n",
            "State 343: North\n",
            "State 344: North\n",
            "State 345: Dropoff\n",
            "State 346: West\n",
            "State 347: North\n",
            "State 348: West\n",
            "State 349: North\n",
            "State 350: North\n",
            "State 351: West\n",
            "State 352: North\n",
            "State 353: West\n",
            "State 354: West\n",
            "State 355: North\n",
            "State 356: West\n",
            "State 357: North\n",
            "State 358: North\n",
            "State 359: North\n",
            "State 360: North\n",
            "State 361: North\n",
            "State 362: South\n",
            "State 363: North\n",
            "State 364: East\n",
            "State 365: Dropoff\n",
            "State 366: North\n",
            "State 367: North\n",
            "State 368: North\n",
            "State 369: North\n",
            "State 370: East\n",
            "State 371: North\n",
            "State 372: South\n",
            "State 373: South\n",
            "State 374: South\n",
            "State 375: South\n",
            "State 376: North\n",
            "State 377: North\n",
            "State 378: North\n",
            "State 379: South\n",
            "State 380: Dropoff\n",
            "State 381: West\n",
            "State 382: North\n",
            "State 383: North\n",
            "State 384: North\n",
            "State 385: Dropoff\n",
            "State 386: West\n",
            "State 387: North\n",
            "State 388: North\n",
            "State 389: West\n",
            "State 390: South\n",
            "State 391: North\n",
            "State 392: West\n",
            "State 393: West\n",
            "State 394: West\n",
            "State 395: South\n",
            "State 396: North\n",
            "State 397: North\n",
            "State 398: South\n",
            "State 399: West\n",
            "State 400: North\n",
            "State 401: North\n",
            "State 402: North\n",
            "State 403: North\n",
            "State 404: North\n",
            "State 405: Pickup\n",
            "State 406: North\n",
            "State 407: North\n",
            "State 408: Pickup\n",
            "State 409: Pickup\n",
            "State 410: South\n",
            "State 411: Pickup\n",
            "State 412: North\n",
            "State 413: North\n",
            "State 414: North\n",
            "State 415: South\n",
            "State 416: North\n",
            "State 417: North\n",
            "State 418: Dropoff\n",
            "State 419: North\n",
            "State 420: North\n",
            "State 421: North\n",
            "State 422: East\n",
            "State 423: East\n",
            "State 424: East\n",
            "State 425: West\n",
            "State 426: North\n",
            "State 427: North\n",
            "State 428: North\n",
            "State 429: North\n",
            "State 430: South\n",
            "State 431: North\n",
            "State 432: North\n",
            "State 433: North\n",
            "State 434: East\n",
            "State 435: Dropoff\n",
            "State 436: East\n",
            "State 437: East\n",
            "State 438: North\n",
            "State 439: South\n",
            "State 440: East\n",
            "State 441: West\n",
            "State 442: North\n",
            "State 443: North\n",
            "State 444: North\n",
            "State 445: Pickup\n",
            "State 446: North\n",
            "State 447: North\n",
            "State 448: West\n",
            "State 449: North\n",
            "State 450: North\n",
            "State 451: West\n",
            "State 452: West\n",
            "State 453: North\n",
            "State 454: North\n",
            "State 455: Dropoff\n",
            "State 456: North\n",
            "State 457: North\n",
            "State 458: West\n",
            "State 459: North\n",
            "State 460: West\n",
            "State 461: North\n",
            "State 462: East\n",
            "State 463: North\n",
            "State 464: East\n",
            "State 465: West\n",
            "State 466: East\n",
            "State 467: East\n",
            "State 468: North\n",
            "State 469: North\n",
            "State 470: North\n",
            "State 471: North\n",
            "State 472: Pickup\n",
            "State 473: Pickup\n",
            "State 474: Pickup\n",
            "State 475: North\n",
            "State 476: North\n",
            "State 477: North\n",
            "State 478: North\n",
            "State 479: Dropoff\n",
            "State 480: West\n",
            "State 481: North\n",
            "State 482: North\n",
            "State 483: West\n",
            "State 484: North\n",
            "State 485: North\n",
            "State 486: North\n",
            "State 487: North\n",
            "State 488: North\n",
            "State 489: North\n",
            "State 490: North\n",
            "State 491: West\n",
            "State 492: West\n",
            "State 493: West\n",
            "State 494: West\n",
            "State 495: West\n",
            "State 496: North\n",
            "State 497: North\n",
            "State 498: West\n",
            "State 499: West\n"
          ]
        }
      ]
    },
    {
      "cell_type": "markdown",
      "source": [
        "## The output displaying the optimal policy for each state confirms that the SARSA algorithm has learned specific actions for different states."
      ],
      "metadata": {
        "id": "FT6G8SQ3jIhe"
      }
    },
    {
      "cell_type": "markdown",
      "source": [
        "## Testing the Policy\n",
        "\n"
      ],
      "metadata": {
        "id": "jZuhm5tvjiNZ"
      }
    },
    {
      "cell_type": "code",
      "source": [
        "def run_learned_policy(env, Q, episodes=5):\n",
        "    for episode in range(episodes):\n",
        "        state = env.reset()\n",
        "        total_reward = 0\n",
        "        done = False\n",
        "        print(f\"Episode {episode + 1}\")\n",
        "        while not done:\n",
        "            action = np.argmax(Q[state])  # Exploit learned policy\n",
        "            next_state, reward, done, truncated, _ = env.step(action)\n",
        "            total_reward += reward\n",
        "            env.render()  # Render the environment\n",
        "            state = next_state\n",
        "            if done or truncated:\n",
        "                break\n",
        "        print(f\"Total Reward: {total_reward}\")\n",
        "        print(\"-\" * 30)\n",
        "\n",
        "run_learned_policy(env, Q)\n"
      ],
      "metadata": {
        "colab": {
          "base_uri": "https://localhost:8080/"
        },
        "id": "-p63OUiQsFxx",
        "outputId": "0e899361-38d5-4b67-a5dd-66e10b47f237"
      },
      "execution_count": 12,
      "outputs": [
        {
          "output_type": "stream",
          "name": "stdout",
          "text": [
            "Episode 1\n"
          ]
        },
        {
          "output_type": "stream",
          "name": "stderr",
          "text": [
            "/usr/local/lib/python3.10/dist-packages/gym/core.py:49: DeprecationWarning: \u001b[33mWARN: You are calling render method, but you didn't specified the argument render_mode at environment initialization. To maintain backward compatibility, the environment will render in human mode.\n",
            "If you want to render in human mode, initialize the environment in this way: gym.make('EnvName', render_mode='human') and don't call the render method.\n",
            "See here for more information: https://www.gymlibrary.ml/content/api/\u001b[0m\n",
            "  deprecation(\n",
            "/usr/local/lib/python3.10/dist-packages/pygame/pkgdata.py:25: DeprecationWarning: pkg_resources is deprecated as an API. See https://setuptools.pypa.io/en/latest/pkg_resources.html\n",
            "  from pkg_resources import resource_stream, resource_exists\n",
            "/usr/local/lib/python3.10/dist-packages/pkg_resources/__init__.py:3154: DeprecationWarning: Deprecated call to `pkg_resources.declare_namespace('google')`.\n",
            "Implementing implicit namespace packages (as specified in PEP 420) is preferred to `pkg_resources.declare_namespace`. See https://setuptools.pypa.io/en/latest/references/keywords.html#keyword-namespace-packages\n",
            "  declare_namespace(pkg)\n",
            "/usr/local/lib/python3.10/dist-packages/pkg_resources/__init__.py:3154: DeprecationWarning: Deprecated call to `pkg_resources.declare_namespace('google.cloud')`.\n",
            "Implementing implicit namespace packages (as specified in PEP 420) is preferred to `pkg_resources.declare_namespace`. See https://setuptools.pypa.io/en/latest/references/keywords.html#keyword-namespace-packages\n",
            "  declare_namespace(pkg)\n",
            "/usr/local/lib/python3.10/dist-packages/gym/core.py:49: DeprecationWarning: \u001b[33mWARN: You are calling render method, but you didn't specified the argument render_mode at environment initialization. To maintain backward compatibility, the environment will render in human mode.\n",
            "If you want to render in human mode, initialize the environment in this way: gym.make('EnvName', render_mode='human') and don't call the render method.\n",
            "See here for more information: https://www.gymlibrary.ml/content/api/\u001b[0m\n",
            "  deprecation(\n"
          ]
        },
        {
          "output_type": "stream",
          "name": "stdout",
          "text": [
            "Total Reward: 12\n",
            "------------------------------\n",
            "Episode 2\n",
            "Total Reward: 13\n",
            "------------------------------\n",
            "Episode 3\n",
            "Total Reward: 8\n",
            "------------------------------\n",
            "Episode 4\n",
            "Total Reward: 7\n",
            "------------------------------\n",
            "Episode 5\n",
            "Total Reward: 7\n",
            "------------------------------\n"
          ]
        }
      ]
    },
    {
      "cell_type": "markdown",
      "source": [
        "## The results indicate that the learned policy is performing well, as the agent is achieving positive rewards in all five episodes."
      ],
      "metadata": {
        "id": "R180VST1jtKl"
      }
    },
    {
      "cell_type": "markdown",
      "source": [
        "## Observations:\n",
        "\n",
        "Total Rewards:\n",
        "\n",
        "- Positive rewards in all episodes indicate that the agent is successfully completing the task (picking up and dropping off passengers).\n",
        "- The variability in total rewards (e.g., 12, 13, 8, 7) can occur due to slight randomness in the environment's initial state and action outcomes."
      ],
      "metadata": {
        "id": "m5WF8o-nj5ZH"
      }
    },
    {
      "cell_type": "markdown",
      "source": [
        "## Further Validation and Analysis"
      ],
      "metadata": {
        "id": "M9fogoGXkNXd"
      }
    },
    {
      "cell_type": "markdown",
      "source": [
        "1- Comparing with Random Policy:\n",
        "\n",
        "By implementing a random policy and comparing its average reward against the learned policy"
      ],
      "metadata": {
        "id": "E2_-bEPIkP4Q"
      }
    },
    {
      "cell_type": "code",
      "source": [
        "def random_policy(env, n_episodes=5):\n",
        "    for episode in range(n_episodes):\n",
        "        state = env.reset()\n",
        "        total_reward = 0\n",
        "        done = False\n",
        "        print(f\"Random Policy Episode {episode + 1}\")\n",
        "        while not done:\n",
        "            action = env.action_space.sample()  # Random action\n",
        "            state, reward, done, truncated, _ = env.step(action)\n",
        "            total_reward += reward\n",
        "            if done or truncated:\n",
        "                break\n",
        "        print(f\"Total Reward: {total_reward}\")\n",
        "        print(\"-\" * 30)\n",
        "\n",
        "random_policy(env, 5)\n"
      ],
      "metadata": {
        "colab": {
          "base_uri": "https://localhost:8080/"
        },
        "id": "9mS_05rKsaPa",
        "outputId": "759e88d9-8961-4591-b64e-585398576acb"
      },
      "execution_count": 13,
      "outputs": [
        {
          "output_type": "stream",
          "name": "stdout",
          "text": [
            "Random Policy Episode 1\n",
            "Total Reward: -776\n",
            "------------------------------\n",
            "Random Policy Episode 2\n",
            "Total Reward: -722\n",
            "------------------------------\n",
            "Random Policy Episode 3\n",
            "Total Reward: -758\n",
            "------------------------------\n",
            "Random Policy Episode 4\n",
            "Total Reward: -767\n",
            "------------------------------\n",
            "Random Policy Episode 5\n",
            "Total Reward: -767\n",
            "------------------------------\n"
          ]
        }
      ]
    },
    {
      "cell_type": "markdown",
      "source": [
        "2- Average Reward Across Multiple Episodes:\n",
        "\n",
        "By Computing the average reward of the learned policy over 100 or more episodes for a more reliable metric:"
      ],
      "metadata": {
        "id": "muU1nli_kmQ3"
      }
    },
    {
      "cell_type": "code",
      "source": [
        "average_reward = evaluate_policy(env, Q, n_episodes=100)\n",
        "print(f\"Average Reward over 100 episodes: {average_reward:.2f}\")\n"
      ],
      "metadata": {
        "colab": {
          "base_uri": "https://localhost:8080/"
        },
        "id": "7-znoruWscnT",
        "outputId": "0a887bca-d4ed-4fd0-abfd-58a4d2bff3ef"
      },
      "execution_count": 14,
      "outputs": [
        {
          "output_type": "stream",
          "name": "stdout",
          "text": [
            "Average Reward over 100 episodes: -24.75\n"
          ]
        }
      ]
    },
    {
      "cell_type": "markdown",
      "source": [
        "## The results demonstrate a significant improvement of the learned policy compared to the random policy"
      ],
      "metadata": {
        "id": "vrSBEJxUkxoS"
      }
    },
    {
      "cell_type": "markdown",
      "source": [
        "## Observations:\n",
        "\n",
        "Random Policy Results:\n",
        "\n",
        "- Total rewards for the random policy are consistently very low (e.g., -776, -722), which is expected as the agent is not learning or optimizing its actions.\n",
        "\n",
        "Learned Policy Results:\n",
        "\n",
        "- The average reward over 100 episodes for the learned policy is -24.75, which is a substantial improvement over the random policy. This indicates that the SARSA algorithm has successfully learned a policy that is far more effective than random actions.\n",
        "\n",
        "Reward Gap:\n",
        "\n",
        "- The gap between the learned policy (-24.75) and the random policy (approximately -750 on average) confirms that the agent has significantly improved its performance by learning the task."
      ],
      "metadata": {
        "id": "DIIiCWYGk3ZG"
      }
    },
    {
      "cell_type": "markdown",
      "source": [
        "## Final Conclusion:\n",
        "\n",
        "### 1- Learned Policy Effectiveness: The SARSA agent is performing substantially better than the random policy, demonstrating that the Q-table represents a meaningful and effective policy.\n",
        "\n",
        "### 2- Further Training Potential: With additional episodes or slight hyperparameter adjustments, the learned policy could likely achieve even better performance (e.g., rewards closer to or above zero)."
      ],
      "metadata": {
        "id": "wWx9CENKlP0K"
      }
    }
  ]
}