{
  "nbformat": 4,
  "nbformat_minor": 0,
  "metadata": {
    "colab": {
      "provenance": [],
      "authorship_tag": "ABX9TyPp53lGq3Lp2i5mKe6ZIRWx",
      "include_colab_link": true
    },
    "kernelspec": {
      "name": "python3",
      "display_name": "Python 3"
    },
    "language_info": {
      "name": "python"
    }
  },
  "cells": [
    {
      "cell_type": "markdown",
      "metadata": {
        "id": "view-in-github",
        "colab_type": "text"
      },
      "source": [
        "<a href=\"https://colab.research.google.com/github/Khalid-2402/big-data/blob/main/lunarlander.ipynb\" target=\"_parent\"><img src=\"https://colab.research.google.com/assets/colab-badge.svg\" alt=\"Open In Colab\"/></a>"
      ]
    },
    {
      "cell_type": "markdown",
      "source": [
        "#env = gym.make(\"LunarLander-v3\", continuous=False, gravity=-10.0,\n",
        "#               enable_wind=False, wind_power=15.0, turbulence_power=1.5)"
      ],
      "metadata": {
        "id": "1s2qG9_BGkXJ"
      }
    },
    {
      "cell_type": "code",
      "source": [
        "!pip install gymnasium"
      ],
      "metadata": {
        "colab": {
          "base_uri": "https://localhost:8080/"
        },
        "id": "rGDQ3mIuAbaQ",
        "outputId": "ae8778b5-3c00-4ff8-e457-391aff61cc0f"
      },
      "execution_count": null,
      "outputs": [
        {
          "output_type": "stream",
          "name": "stdout",
          "text": [
            "Collecting gymnasium\n",
            "  Downloading gymnasium-1.0.0-py3-none-any.whl.metadata (9.5 kB)\n",
            "Requirement already satisfied: numpy>=1.21.0 in /usr/local/lib/python3.10/dist-packages (from gymnasium) (1.26.4)\n",
            "Requirement already satisfied: cloudpickle>=1.2.0 in /usr/local/lib/python3.10/dist-packages (from gymnasium) (3.1.0)\n",
            "Requirement already satisfied: typing-extensions>=4.3.0 in /usr/local/lib/python3.10/dist-packages (from gymnasium) (4.12.2)\n",
            "Collecting farama-notifications>=0.0.1 (from gymnasium)\n",
            "  Downloading Farama_Notifications-0.0.4-py3-none-any.whl.metadata (558 bytes)\n",
            "Downloading gymnasium-1.0.0-py3-none-any.whl (958 kB)\n",
            "\u001b[2K   \u001b[90m━━━━━━━━━━━━━━━━━━━━━━━━━━━━━━━━━━━━━━━━\u001b[0m \u001b[32m958.1/958.1 kB\u001b[0m \u001b[31m14.1 MB/s\u001b[0m eta \u001b[36m0:00:00\u001b[0m\n",
            "\u001b[?25hDownloading Farama_Notifications-0.0.4-py3-none-any.whl (2.5 kB)\n",
            "Installing collected packages: farama-notifications, gymnasium\n",
            "Successfully installed farama-notifications-0.0.4 gymnasium-1.0.0\n"
          ]
        }
      ]
    },
    {
      "cell_type": "code",
      "execution_count": null,
      "metadata": {
        "colab": {
          "base_uri": "https://localhost:8080/"
        },
        "id": "b00doVUXAUNL",
        "outputId": "437d9e5d-562d-4444-c6c4-6730ddea56d9"
      },
      "outputs": [
        {
          "output_type": "stream",
          "name": "stdout",
          "text": [
            "1.0.0\n"
          ]
        }
      ],
      "source": [
        "import gymnasium as gym\n",
        "print(gym.__version__)"
      ]
    },
    {
      "cell_type": "markdown",
      "source": [
        "#env = gym.make(\"LunarLander-v3\", continuous=False, gravity=-10.0,\n",
        "#               enable_wind=False, wind_power=15.0, turbulence_power=1.5)"
      ],
      "metadata": {
        "id": "87jkUHTUAkiG"
      }
    },
    {
      "cell_type": "code",
      "source": [
        "!pip install swig\n",
        "!pip install gymnasium[box2d]"
      ],
      "metadata": {
        "colab": {
          "base_uri": "https://localhost:8080/"
        },
        "id": "S2t1whlcApoF",
        "outputId": "b51e85f5-7ad8-4896-d786-08b82eb3eb1b"
      },
      "execution_count": null,
      "outputs": [
        {
          "output_type": "stream",
          "name": "stdout",
          "text": [
            "Collecting swig\n",
            "  Using cached swig-4.2.1.post0-py2.py3-none-manylinux_2_5_x86_64.manylinux1_x86_64.whl.metadata (3.5 kB)\n",
            "Using cached swig-4.2.1.post0-py2.py3-none-manylinux_2_5_x86_64.manylinux1_x86_64.whl (1.8 MB)\n",
            "Installing collected packages: swig\n",
            "Successfully installed swig-4.2.1.post0\n",
            "Requirement already satisfied: gymnasium[box2d] in /usr/local/lib/python3.10/dist-packages (1.0.0)\n",
            "Requirement already satisfied: numpy>=1.21.0 in /usr/local/lib/python3.10/dist-packages (from gymnasium[box2d]) (1.26.4)\n",
            "Requirement already satisfied: cloudpickle>=1.2.0 in /usr/local/lib/python3.10/dist-packages (from gymnasium[box2d]) (3.1.0)\n",
            "Requirement already satisfied: typing-extensions>=4.3.0 in /usr/local/lib/python3.10/dist-packages (from gymnasium[box2d]) (4.12.2)\n",
            "Requirement already satisfied: farama-notifications>=0.0.1 in /usr/local/lib/python3.10/dist-packages (from gymnasium[box2d]) (0.0.4)\n",
            "Collecting box2d-py==2.3.5 (from gymnasium[box2d])\n",
            "  Using cached box2d-py-2.3.5.tar.gz (374 kB)\n",
            "  Preparing metadata (setup.py) ... \u001b[?25l\u001b[?25hdone\n",
            "Requirement already satisfied: pygame>=2.1.3 in /usr/local/lib/python3.10/dist-packages (from gymnasium[box2d]) (2.6.1)\n",
            "Requirement already satisfied: swig==4.* in /usr/local/lib/python3.10/dist-packages (from gymnasium[box2d]) (4.2.1.post0)\n",
            "Building wheels for collected packages: box2d-py\n",
            "  Building wheel for box2d-py (setup.py) ... \u001b[?25l\u001b[?25hdone\n",
            "  Created wheel for box2d-py: filename=box2d_py-2.3.5-cp310-cp310-linux_x86_64.whl size=2376099 sha256=70701ec616ed6a9f4cef1b5aa6bded8aa5875eec0a2a1a89c6eac2984702e41d\n",
            "  Stored in directory: /root/.cache/pip/wheels/db/8f/6a/eaaadf056fba10a98d986f6dce954e6201ba3126926fc5ad9e\n",
            "Successfully built box2d-py\n",
            "Installing collected packages: box2d-py\n",
            "Successfully installed box2d-py-2.3.5\n"
          ]
        }
      ]
    },
    {
      "cell_type": "code",
      "source": [
        "# Initialise the environment\n",
        "env = gym.make(\"LunarLander-v3\", render_mode=\"human\")\n",
        "\n",
        "# Reset the environment to generate the first observation\n",
        "observation, info = env.reset(seed=42)\n",
        "for _ in range(1000):\n",
        "    # this is where you would insert your policy\n",
        "    action = env.action_space.sample()\n",
        "\n",
        "    # step (transition) through the environment with the action\n",
        "    # receiving the next observation, reward and if the episode has terminated or truncated\n",
        "    observation, reward, terminated, truncated, info = env.step(action)\n",
        "\n",
        "    # If the episode has ended then we can reset to start a new episode\n",
        "    if terminated or truncated:\n",
        "        observation, info = env.reset()\n",
        "\n",
        "env.close()"
      ],
      "metadata": {
        "id": "xwu-20XCAlcN"
      },
      "execution_count": null,
      "outputs": []
    },
    {
      "cell_type": "code",
      "source": [
        "# How to see all the possible environments\n",
        "gym.pprint_registry()"
      ],
      "metadata": {
        "colab": {
          "base_uri": "https://localhost:8080/"
        },
        "id": "X5mDkFzMA2MM",
        "outputId": "597a4966-1bdc-44cf-964b-fbc07ebd0636"
      },
      "execution_count": null,
      "outputs": [
        {
          "output_type": "stream",
          "name": "stdout",
          "text": [
            "===== classic_control =====\n",
            "Acrobot-v1             CartPole-v0            CartPole-v1\n",
            "MountainCar-v0         MountainCarContinuous-v0 Pendulum-v1\n",
            "===== phys2d =====\n",
            "phys2d/CartPole-v0     phys2d/CartPole-v1     phys2d/Pendulum-v0\n",
            "===== box2d =====\n",
            "BipedalWalker-v3       BipedalWalkerHardcore-v3 CarRacing-v3\n",
            "LunarLander-v3         LunarLanderContinuous-v3\n",
            "===== toy_text =====\n",
            "Blackjack-v1           CliffWalking-v0        FrozenLake-v1\n",
            "FrozenLake8x8-v1       Taxi-v3\n",
            "===== tabular =====\n",
            "tabular/Blackjack-v0   tabular/CliffWalking-v0\n",
            "===== mujoco =====\n",
            "Ant-v2                 Ant-v3                 Ant-v4\n",
            "Ant-v5                 HalfCheetah-v2         HalfCheetah-v3\n",
            "HalfCheetah-v4         HalfCheetah-v5         Hopper-v2\n",
            "Hopper-v3              Hopper-v4              Hopper-v5\n",
            "Humanoid-v2            Humanoid-v3            Humanoid-v4\n",
            "Humanoid-v5            HumanoidStandup-v2     HumanoidStandup-v4\n",
            "HumanoidStandup-v5     InvertedDoublePendulum-v2 InvertedDoublePendulum-v4\n",
            "InvertedDoublePendulum-v5 InvertedPendulum-v2    InvertedPendulum-v4\n",
            "InvertedPendulum-v5    Pusher-v2              Pusher-v4\n",
            "Pusher-v5              Reacher-v2             Reacher-v4\n",
            "Reacher-v5             Swimmer-v2             Swimmer-v3\n",
            "Swimmer-v4             Swimmer-v5             Walker2d-v2\n",
            "Walker2d-v3            Walker2d-v4            Walker2d-v5\n",
            "===== None =====\n",
            "GymV21Environment-v0   GymV26Environment-v0\n"
          ]
        }
      ]
    },
    {
      "cell_type": "code",
      "source": [
        "!pip install session_info"
      ],
      "metadata": {
        "colab": {
          "base_uri": "https://localhost:8080/"
        },
        "id": "vFlx7QXrA2Rp",
        "outputId": "31e5e0db-c42b-462e-9d43-1e74fb63f8d8"
      },
      "execution_count": null,
      "outputs": [
        {
          "output_type": "stream",
          "name": "stdout",
          "text": [
            "Collecting session_info\n",
            "  Downloading session_info-1.0.0.tar.gz (24 kB)\n",
            "  Preparing metadata (setup.py) ... \u001b[?25l\u001b[?25hdone\n",
            "Collecting stdlib_list (from session_info)\n",
            "  Downloading stdlib_list-0.11.0-py3-none-any.whl.metadata (3.3 kB)\n",
            "Downloading stdlib_list-0.11.0-py3-none-any.whl (83 kB)\n",
            "\u001b[2K   \u001b[90m━━━━━━━━━━━━━━━━━━━━━━━━━━━━━━━━━━━━━━━━\u001b[0m \u001b[32m83.6/83.6 kB\u001b[0m \u001b[31m3.2 MB/s\u001b[0m eta \u001b[36m0:00:00\u001b[0m\n",
            "\u001b[?25hBuilding wheels for collected packages: session_info\n",
            "  Building wheel for session_info (setup.py) ... \u001b[?25l\u001b[?25hdone\n",
            "  Created wheel for session_info: filename=session_info-1.0.0-py3-none-any.whl size=8023 sha256=5d12d5fdf7601863fe8dc5319ffdd64c426339ccf767b8d2499ec4088d8a1d4c\n",
            "  Stored in directory: /root/.cache/pip/wheels/6a/aa/b9/eb5d4031476ec10802795b97ccf937b9bd998d68a9b268765a\n",
            "Successfully built session_info\n",
            "Installing collected packages: stdlib_list, session_info\n",
            "Successfully installed session_info-1.0.0 stdlib_list-0.11.0\n"
          ]
        }
      ]
    },
    {
      "cell_type": "code",
      "source": [
        "import session_info\n",
        "session_info.show(html=False)"
      ],
      "metadata": {
        "colab": {
          "base_uri": "https://localhost:8080/"
        },
        "id": "4urSW9wtA2Oy",
        "outputId": "bf84472f-69c3-49f2-f9a4-d7acb2bb1afb"
      },
      "execution_count": null,
      "outputs": [
        {
          "output_type": "stream",
          "name": "stdout",
          "text": [
            "-----\n",
            "gymnasium           1.0.0\n",
            "session_info        1.0.0\n",
            "-----\n",
            "IPython             7.34.0\n",
            "jupyter_client      6.1.12\n",
            "jupyter_core        5.7.2\n",
            "notebook            6.5.5\n",
            "-----\n",
            "Python 3.10.12 (main, Sep 11 2024, 15:47:36) [GCC 11.4.0]\n",
            "Linux-6.1.85+-x86_64-with-glibc2.35\n",
            "-----\n",
            "Session information updated at 2024-10-30 10:45\n"
          ]
        }
      ]
    },
    {
      "cell_type": "code",
      "source": [],
      "metadata": {
        "id": "OyVovkQSA2Uh"
      },
      "execution_count": null,
      "outputs": []
    },
    {
      "cell_type": "code",
      "source": [],
      "metadata": {
        "id": "i90JQEmQA2XL"
      },
      "execution_count": null,
      "outputs": []
    },
    {
      "cell_type": "code",
      "source": [],
      "metadata": {
        "id": "fG9zws9MA2aj"
      },
      "execution_count": null,
      "outputs": []
    }
  ]
}